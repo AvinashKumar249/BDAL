{
 "cells": [
  {
   "cell_type": "code",
   "execution_count": 7,
   "metadata": {},
   "outputs": [],
   "source": [
    "import pyspark\n",
    "import os\n",
    "import sys\n",
    "from pyspark import SparkContext\n",
    "from pyspark import SparkConf\n",
    "#from pyspark.sql import SparkSession\n",
    "from pyspark.sql.functions import avg, sum, count\n",
    "\n",
    "os.environ['PYSPARK_PYTHON'] = sys.executable\n",
    "os.environ['PYSPARK_DRIVER_PYTHON'] = sys.executable"
   ]
  },
  {
   "cell_type": "code",
   "execution_count": 12,
   "metadata": {},
   "outputs": [
    {
     "name": "stdout",
     "output_type": "stream",
     "text": [
      "5\n",
      "+---+-----+\n",
      "| id| name|\n",
      "+---+-----+\n",
      "|  1|Alice|\n",
      "|  2|  Bob|\n",
      "|  3|Carol|\n",
      "|  4| Dave|\n",
      "|  5|  Eve|\n",
      "+---+-----+\n",
      "\n",
      "+-----+----+----+\n",
      "| name|Sums|Avgs|\n",
      "+-----+----+----+\n",
      "|Alice|   1| 1.0|\n",
      "|  Bob|   2| 2.0|\n",
      "|Carol|   3| 3.0|\n",
      "| Dave|   4| 4.0|\n",
      "|  Eve|   5| 5.0|\n",
      "+-----+----+----+\n",
      "\n",
      "+---+-----+---+\n",
      "| id| name|age|\n",
      "+---+-----+---+\n",
      "|  1|Alice| 10|\n",
      "+---+-----+---+\n",
      "\n"
     ]
    }
   ],
   "source": [
    "from pyspark.sql import SparkSession\n",
    "# Create a SparkSession\n",
    "spark = SparkSession.builder.getOrCreate()\n",
    "# Create a DataFrame\n",
    "df = spark.createDataFrame([\n",
    "(1, \"Alice\"),\n",
    "(2, \"Bob\"),\n",
    "(3, \"Carol\"),\n",
    "(4, \"Dave\"),\n",
    "(5, \"Eve\")\n",
    "], [\"id\", \"name\"])\n",
    "print(df.count())#Q2\n",
    "df.show()#Q2\n",
    "df.write.format(\"csv\").mode('overwrite').save('output')#Q4 #gives df in output\n",
    "group_df3 = df.groupBy(\"name\").agg(sum(\"id\").alias(\"Sums\"),avg(\"id\").alias(\"Avgs\"))#Q3\n",
    "group_df3.show()#Q3\n",
    "# Filter the DataFrame to only include rows where the name starts with \"A\"\n",
    "df = df.filter(df[\"name\"].startswith(\"A\"))#Q1\n",
    "# Add a new column to the DataFrame called \"age\"\n",
    "df = df.withColumn(\"age\", df[\"id\"] * 10)#Q1\n",
    "# Print the DataFrame\n",
    "df.show()\n"
   ]
  },
  {
   "cell_type": "code",
   "execution_count": 10,
   "metadata": {},
   "outputs": [
    {
     "name": "stdout",
     "output_type": "stream",
     "text": [
      "+-------------+-----------+\n",
      "|         city|temperature|\n",
      "+-------------+-----------+\n",
      "|     New York|       10.0|\n",
      "|     New York|       12.0|\n",
      "|  Los Angeles|       20.0|\n",
      "|  Los Angeles|       22.0|\n",
      "|San Francisco|       15.0|\n",
      "|San Francisco|       18.0|\n",
      "+-------------+-----------+\n",
      "\n",
      "+-------------+----+----+\n",
      "|         city|Sums|Avgs|\n",
      "+-------------+----+----+\n",
      "|     New York|22.0|11.0|\n",
      "|  Los Angeles|42.0|21.0|\n",
      "|San Francisco|33.0|16.5|\n",
      "+-------------+----+----+\n",
      "\n"
     ]
    }
   ],
   "source": [
    "data2 = [(\"New York\", 10.0), (\"New York\", 12.0),\n",
    "        (\"Los Angeles\", 20.0), (\"Los Angeles\", 22.0),\n",
    "        (\"San Francisco\", 15.0), (\"San Francisco\", 18.0)]\n",
    "df2 = spark.createDataFrame(data2, [\"city\", \"temperature\"])\n",
    "group_df2 = df2.groupBy(\"city\").agg(sum(\"temperature\").alias(\"Sums\"),avg(\"temperature\").alias(\"Avgs\"))\n",
    "df2.show()\n",
    "group_df2.show()"
   ]
  },
  {
   "cell_type": "code",
   "execution_count": 13,
   "metadata": {},
   "outputs": [],
   "source": [
    "#Q5"
   ]
  },
  {
   "cell_type": "code",
   "execution_count": 18,
   "metadata": {},
   "outputs": [
    {
     "name": "stdout",
     "output_type": "stream",
     "text": [
      "+-----+-----+\n",
      "| word|count|\n",
      "+-----+-----+\n",
      "|   To|    2|\n",
      "|   to|    2|\n",
      "|seven|    1|\n",
      "|three|    1|\n",
      "+-----+-----+\n",
      "\n"
     ]
    }
   ],
   "source": [
    "from pyspark.sql import SparkSession\n",
    "from pyspark.sql import functions as f\n",
    "# Create a SparkSession\n",
    "spark = SparkSession.builder.getOrCreate()\n",
    "# Load the text file\n",
    "lines = spark.read.text(\"sentence.txt\")\n",
    "# Split the lines into words\n",
    "words = lines.withColumn('word', f.explode(f.split(f.col('value'), ' '))).groupBy('word').count()\\\n",
    ".sort('count', ascending=False)\\\n",
    ".show()\n",
    "# Stop the SparkSession\n",
    "spark.stop()"
   ]
  },
  {
   "cell_type": "code",
   "execution_count": 19,
   "metadata": {},
   "outputs": [
    {
     "name": "stderr",
     "output_type": "stream",
     "text": [
      "/home/lplab/anaconda3/lib/python3.7/site-packages/pyspark/context.py:317: FutureWarning: Python 3.7 support is deprecated in Spark 3.4.\n",
      "  warnings.warn(\"Python 3.7 support is deprecated in Spark 3.4.\", FutureWarning)\n"
     ]
    },
    {
     "name": "stdout",
     "output_type": "stream",
     "text": [
      "seven: 1\n",
      "three: 1\n",
      "To: 2\n",
      "to: 2\n"
     ]
    }
   ],
   "source": [
    "#Alt\n",
    "# Create a SparkSession\n",
    "sc = SparkContext.getOrCreate(SparkConf().setMaster(\"local[*]\"))\n",
    "# Load the text file\n",
    "lines = sc.textFile(\"sentence.txt\")\n",
    "counts = lines.flatMap(lambda line: line.split(\" \")).map(lambda word: (word, 1)).reduceByKey(lambda x, y: x + y)\n",
    "output = counts.collect()\n",
    "for (word, count) in output:\n",
    "    print(\"%s: %i\" % (word, count))\n",
    "# Split the lines into words"
   ]
  },
  {
   "cell_type": "code",
   "execution_count": null,
   "metadata": {},
   "outputs": [],
   "source": []
  }
 ],
 "metadata": {
  "kernelspec": {
   "display_name": "Python 3",
   "language": "python",
   "name": "python3"
  },
  "language_info": {
   "codemirror_mode": {
    "name": "ipython",
    "version": 3
   },
   "file_extension": ".py",
   "mimetype": "text/x-python",
   "name": "python",
   "nbconvert_exporter": "python",
   "pygments_lexer": "ipython3",
   "version": "3.7.0"
  }
 },
 "nbformat": 4,
 "nbformat_minor": 2
}
